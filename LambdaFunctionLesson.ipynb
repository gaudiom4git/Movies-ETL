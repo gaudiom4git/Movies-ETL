{
 "cells": [
  {
   "cell_type": "code",
   "execution_count": 16,
   "id": "25282bd7",
   "metadata": {},
   "outputs": [],
   "source": [
    "numberlist = [1,4,8,12,15,22,17,20,30,55,76]\n",
    "n=4\n",
    "evenlist = []"
   ]
  },
  {
   "cell_type": "code",
   "execution_count": 17,
   "id": "37d62354",
   "metadata": {},
   "outputs": [
    {
     "name": "stdout",
     "output_type": "stream",
     "text": [
      "1\n",
      "4\n",
      "8\n",
      "12\n",
      "15\n",
      "22\n",
      "17\n",
      "20\n",
      "30\n",
      "55\n",
      "76\n",
      "[4, 8, 12, 22, 20, 30, 76]\n"
     ]
    }
   ],
   "source": [
    "for num in numberlist:\n",
    "    print(num)\n",
    "    r=num%2\n",
    "    if r==0:\n",
    "        evenlist.append(num)\n",
    "print(evenlist)   "
   ]
  },
  {
   "cell_type": "code",
   "execution_count": 23,
   "id": "0d14d048",
   "metadata": {},
   "outputs": [],
   "source": [
    "def playlist(l):\n",
    "    evenlist=[]\n",
    "    for num in l:\n",
    "        r=num%2\n",
    "        if r==0:\n",
    "            evenlist.append(num)\n",
    "    return(evenlist)"
   ]
  },
  {
   "cell_type": "code",
   "execution_count": 24,
   "id": "cff12956",
   "metadata": {},
   "outputs": [
    {
     "data": {
      "text/plain": [
       "[4, 8, 12, 22, 20, 30, 76]"
      ]
     },
     "execution_count": 24,
     "metadata": {},
     "output_type": "execute_result"
    }
   ],
   "source": [
    "playlist(numberlist)"
   ]
  },
  {
   "cell_type": "code",
   "execution_count": 26,
   "id": "e496379a",
   "metadata": {},
   "outputs": [],
   "source": [
    "newlist = [x for x in numberlist if x%2 ==0]"
   ]
  },
  {
   "cell_type": "code",
   "execution_count": 27,
   "id": "f0e7c96b",
   "metadata": {},
   "outputs": [
    {
     "data": {
      "text/plain": [
       "[4, 8, 12, 22, 20, 30, 76]"
      ]
     },
     "execution_count": 27,
     "metadata": {},
     "output_type": "execute_result"
    }
   ],
   "source": [
    "newlist"
   ]
  },
  {
   "cell_type": "code",
   "execution_count": 28,
   "id": "39ff830d",
   "metadata": {},
   "outputs": [
    {
     "data": {
      "text/plain": [
       "[4, 8, 12, 22, 20, 30, 76]"
      ]
     },
     "execution_count": 28,
     "metadata": {},
     "output_type": "execute_result"
    }
   ],
   "source": [
    "aevenlist=list(filter(lambda x:x%2==0,numberlist))\n",
    "aevenlist"
   ]
  },
  {
   "cell_type": "code",
   "execution_count": null,
   "id": "6c6218b1",
   "metadata": {},
   "outputs": [],
   "source": []
  }
 ],
 "metadata": {
  "kernelspec": {
   "display_name": "PythonData",
   "language": "python",
   "name": "pythondata"
  },
  "language_info": {
   "codemirror_mode": {
    "name": "ipython",
    "version": 3
   },
   "file_extension": ".py",
   "mimetype": "text/x-python",
   "name": "python",
   "nbconvert_exporter": "python",
   "pygments_lexer": "ipython3",
   "version": "3.9.7"
  }
 },
 "nbformat": 4,
 "nbformat_minor": 5
}
